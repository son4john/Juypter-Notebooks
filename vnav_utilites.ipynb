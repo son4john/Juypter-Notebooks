{
 "cells": [
  {
   "cell_type": "markdown",
   "metadata": {},
   "source": [
    "## Date Time Format"
   ]
  },
  {
   "cell_type": "code",
   "execution_count": 1,
   "metadata": {},
   "outputs": [
    {
     "name": "stdout",
     "output_type": "stream",
     "text": [
      "06-15-22-16h20m49s\n"
     ]
    }
   ],
   "source": [
    "\n",
    "from datetime import datetime\n",
    "\n",
    "\n",
    "now = datetime.now()\n",
    "date_time = now.strftime(\"%m-%d-%y-%Hh%Mm%Ss\")\n",
    "print(date_time)"
   ]
  },
  {
   "cell_type": "markdown",
   "metadata": {},
   "source": [
    "# Specific Directory To String"
   ]
  },
  {
   "cell_type": "code",
   "execution_count": 3,
   "metadata": {},
   "outputs": [
    {
     "name": "stdout",
     "output_type": "stream",
     "text": [
      "c:\\Users\\oonnoonni\\Documents\\git\\pynb\\XMLEditingTool\\VectorNav.xml\n"
     ]
    }
   ],
   "source": [
    "import os\n",
    "\n",
    "# This code is an example dosen't work\n",
    "pathc = os.getcwd() # Get Working Directory\n",
    "pathp = os.path.abspath(os.path.join(pathc, os.pardir)) # Get Parent Directory os.pardir, and join to working directory\n",
    "paths = os.path.abspath(os.path.join(pathp,\"XMLEditingTool\\VectorNav.xml\")) # Get a subdirectory\n",
    "\n",
    "print(paths)"
   ]
  },
  {
   "cell_type": "markdown",
   "metadata": {},
   "source": [
    "# String Parsing"
   ]
  },
  {
   "cell_type": "markdown",
   "metadata": {},
   "source": [
    "## Get first sentence\n",
    "**This works by splitting the string on a specific character i.e. the period. This function would be useful to split a string on any end character**"
   ]
  },
  {
   "cell_type": "code",
   "execution_count": 2,
   "metadata": {},
   "outputs": [
    {
     "name": "stdout",
     "output_type": "stream",
     "text": [
      "Binary group 1 contains a wide assortment of commonly used data required for most applications.\n"
     ]
    }
   ],
   "source": [
    "paragraph = \"\"\"Binary group 1 contains a wide assortment of commonly used data required for most applications. All of the outputs found in group 1 are also present in the other groups. In this sense, group 1 is a subset of commonly used outputs from the other groups. This simplifies the configuration of binary output messages for applications that only require access to the commonly used data found in group 1. For these applications you can hard code the group \n",
    "field to 1, and not worry about implemented support for the other binary groups. Using group 1 for commonly used outputs also has the advantage of reducing the overall packet size, since the packet length is dependent upon the number of binary groups active.\"\"\"\n",
    "\n",
    "firstSentence = paragraph.partition(\".\")[0] + \".\"\n",
    "print(firstSentence)"
   ]
  }
 ],
 "metadata": {
  "kernelspec": {
   "display_name": "Python 3.9.6 64-bit",
   "language": "python",
   "name": "python3"
  },
  "language_info": {
   "codemirror_mode": {
    "name": "ipython",
    "version": 3
   },
   "file_extension": ".py",
   "mimetype": "text/x-python",
   "name": "python",
   "nbconvert_exporter": "python",
   "pygments_lexer": "ipython3",
   "version": "3.9.6"
  },
  "orig_nbformat": 4,
  "vscode": {
   "interpreter": {
    "hash": "373bb6bc365d070f0f59d987ce7f126816732df635b286ed9ee4a391712b2496"
   }
  }
 },
 "nbformat": 4,
 "nbformat_minor": 2
}
