{
 "cells": [
  {
   "cell_type": "markdown",
   "metadata": {},
   "source": [
    "# Date Time Format"
   ]
  },
  {
   "cell_type": "code",
   "execution_count": 1,
   "metadata": {},
   "outputs": [
    {
     "name": "stdout",
     "output_type": "stream",
     "text": [
      "06-23-22-13h51m18s\n"
     ]
    }
   ],
   "source": [
    "\n",
    "from datetime import datetime\n",
    "\n",
    "\n",
    "now = datetime.now()\n",
    "date_time = now.strftime(\"%m-%d-%y-%Hh%Mm%Ss\")\n",
    "print(date_time)"
   ]
  },
  {
   "cell_type": "markdown",
   "metadata": {},
   "source": [
    "# Directory Management"
   ]
  },
  {
   "cell_type": "code",
   "execution_count": 2,
   "metadata": {},
   "outputs": [
    {
     "name": "stdout",
     "output_type": "stream",
     "text": [
      "c:\\Users\\oonnoonni\\Documents\\git\\notes\\XMLEditingTool\\VectorNav.xml\n"
     ]
    }
   ],
   "source": [
    "import os\n",
    "\n",
    "# This code is an example dosen't work\n",
    "pathc = os.getcwd() # Get Working Directory\n",
    "pathp = os.path.abspath(os.path.join(pathc, os.pardir)) # Get Parent Directory os.pardir, and join to working directory\n",
    "paths = os.path.abspath(os.path.join(pathp,\"XMLEditingTool\\VectorNav.xml\")) # Get a subdirectory\n",
    "\n",
    "print(paths)"
   ]
  },
  {
   "cell_type": "markdown",
   "metadata": {},
   "source": [
    "# String Parsing"
   ]
  },
  {
   "cell_type": "markdown",
   "metadata": {},
   "source": [
    "## Get first sentence\n",
    "**This works by splitting the string on a specific character i.e. the period. This function would be useful to split a string on any end character**"
   ]
  },
  {
   "cell_type": "code",
   "execution_count": 3,
   "metadata": {},
   "outputs": [
    {
     "name": "stdout",
     "output_type": "stream",
     "text": [
      "Binary group 1 contains a wide assortment of commonly used data required for most applications.\n"
     ]
    }
   ],
   "source": [
    "paragraph = \"\"\"Binary group 1 contains a wide assortment of commonly used data required for most applications. All of the outputs found in group 1 are also present in the other groups. In this sense, group 1 is a subset of commonly used outputs from the other groups. This simplifies the configuration of binary output messages for applications that only require access to the commonly used data found in group 1. For these applications you can hard code the group \n",
    "field to 1, and not worry about implemented support for the other binary groups. Using group 1 for commonly used outputs also has the advantage of reducing the overall packet size, since the packet length is dependent upon the number of binary groups active.\"\"\"\n",
    "\n",
    "firstSentence = paragraph.partition(\".\")[0] + \".\"\n",
    "print(firstSentence)"
   ]
  },
  {
   "cell_type": "markdown",
   "metadata": {},
   "source": [
    "## Parsing Comma Delimited File"
   ]
  },
  {
   "cell_type": "code",
   "execution_count": 4,
   "metadata": {},
   "outputs": [
    {
     "name": "stdout",
     "output_type": "stream",
     "text": [
      "test\n",
      "script\n",
      "info\n"
     ]
    }
   ],
   "source": [
    "import pandas as pd\n",
    "\n",
    "# Read CSV file into DataFrame df\n",
    "df = pd.read_csv('FA_02_05_00.csv')\n",
    "\n",
    "# Show dataframe\n",
    "print(df)"
   ]
  },
  {
   "cell_type": "markdown",
   "metadata": {},
   "source": [
    "## Regular Expression Get Data between Brackets"
   ]
  },
  {
   "cell_type": "code",
   "execution_count": 3,
   "metadata": {},
   "outputs": [
    {
     "name": "stdout",
     "output_type": "stream",
     "text": [
      "['ee']\n"
     ]
    }
   ],
   "source": [
    "import re\n",
    "data = \"adfsklfjlksdf{ee}ddsff\"\n",
    "sensor = re.findall(r\"(?<=sens=)\\d+\", data) # Search for numbers with sens= preceding it\n",
    "form = re.findall(r\"{([^}]*)}\", data) # Get everything between brackets\n",
    "firmware = re.findall(r\"fwver{([^}]*)}\", data) # get everything between brackets and having fwver perceding it\n",
    "\n",
    "print(form)"
   ]
  },
  {
   "cell_type": "markdown",
   "metadata": {},
   "source": [
    "# XML Parsing"
   ]
  },
  {
   "cell_type": "markdown",
   "metadata": {},
   "source": [
    "## Check if an attribute exsits"
   ]
  },
  {
   "cell_type": "code",
   "execution_count": 4,
   "metadata": {},
   "outputs": [
    {
     "ename": "SyntaxError",
     "evalue": "Missing parentheses in call to 'print'. Did you mean print(\"there is no such attribute\")? (Temp/ipykernel_11980/2505413286.py, line 2)",
     "output_type": "error",
     "traceback": [
      "\u001b[1;36m  File \u001b[1;32m\"C:\\Users\\OONNOO~1\\AppData\\Local\\Temp/ipykernel_11980/2505413286.py\"\u001b[1;36m, line \u001b[1;32m2\u001b[0m\n\u001b[1;33m    print \"there is no such attribute\"\u001b[0m\n\u001b[1;37m          ^\u001b[0m\n\u001b[1;31mSyntaxError\u001b[0m\u001b[1;31m:\u001b[0m Missing parentheses in call to 'print'. Did you mean print(\"there is no such attribute\")?\n"
     ]
    }
   ],
   "source": [
    "if 'blah' not in elem.attrib:\n",
    "   print \"there is no such attribute\""
   ]
  },
  {
   "cell_type": "markdown",
   "metadata": {},
   "source": [
    "# Text Parsing List"
   ]
  },
  {
   "cell_type": "code",
   "execution_count": 2,
   "metadata": {},
   "outputs": [
    {
     "name": "stdout",
     "output_type": "stream",
     "text": [
      "Found Match Fake\n"
     ]
    }
   ],
   "source": [
    "  import re \n",
    "  \n",
    "  wordList = ['Fake', 'Take', 'Stake']\n",
    "  searchList = ['Meke', 'Rake', 'Fake']\n",
    "  for word in wordList:\n",
    "        if re.match('|'.join(searchList),word):\n",
    "            print('Found Match ' + word)\n",
    "            "
   ]
  }
 ],
 "metadata": {
  "kernelspec": {
   "display_name": "Python 3.9.6 64-bit",
   "language": "python",
   "name": "python3"
  },
  "language_info": {
   "codemirror_mode": {
    "name": "ipython",
    "version": 3
   },
   "file_extension": ".py",
   "mimetype": "text/x-python",
   "name": "python",
   "nbconvert_exporter": "python",
   "pygments_lexer": "ipython3",
   "version": "3.9.6"
  },
  "orig_nbformat": 4,
  "vscode": {
   "interpreter": {
    "hash": "373bb6bc365d070f0f59d987ce7f126816732df635b286ed9ee4a391712b2496"
   }
  }
 },
 "nbformat": 4,
 "nbformat_minor": 2
}
